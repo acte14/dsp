{
 "cells": [
  {
   "cell_type": "code",
   "execution_count": 35,
   "metadata": {},
   "outputs": [],
   "source": [
    "import numpy as np\n",
    "import pandas as pd\n",
    "pd.set_option('display.max_columns', None)\n",
    "pd.set_option('display.max_rows', 30)\n",
    "pd.set_option('display.precision', 3)\n",
    "pd_version = pd.__version__\n",
    "np_version = np.__version__\n",
    "cols = [\n",
    "    '', 'region', 'area', 'palmitic', 'palmitoleic', 'stearic', 'oleic', 'linoleic', 'linolenic', 'arachidic', 'eicosenoic'\n",
    "]\n",
    "df = pd.read_csv('http://s3.amazonaws.com/istreet-assets/cqj0wXOp6sICdTRWc5X2cw/olive.csv.txt')\n"
   ]
  },
  {
   "cell_type": "code",
   "execution_count": 36,
   "metadata": {},
   "outputs": [
    {
     "data": {
      "text/plain": [
       "(572, 11)"
      ]
     },
     "execution_count": 36,
     "metadata": {},
     "output_type": "execute_result"
    }
   ],
   "source": [
    "df.shape"
   ]
  },
  {
   "cell_type": "code",
   "execution_count": 37,
   "metadata": {},
   "outputs": [],
   "source": [
    "df_data_types_count = df.dtypes.value_counts()\n"
   ]
  },
  {
   "cell_type": "code",
   "execution_count": 38,
   "metadata": {},
   "outputs": [
    {
     "name": "stdout",
     "output_type": "stream",
     "text": [
      "int64     10\n",
      "object     1\n",
      "dtype: int64\n"
     ]
    }
   ],
   "source": [
    "print(df_data_types_count)"
   ]
  },
  {
   "cell_type": "code",
   "execution_count": 39,
   "metadata": {},
   "outputs": [],
   "source": [
    "df['sub_region_raw'] = df['Unnamed: 0']   \n"
   ]
  },
  {
   "cell_type": "code",
   "execution_count": 40,
   "metadata": {},
   "outputs": [
    {
     "data": {
      "text/html": [
       "<div>\n",
       "<style scoped>\n",
       "    .dataframe tbody tr th:only-of-type {\n",
       "        vertical-align: middle;\n",
       "    }\n",
       "\n",
       "    .dataframe tbody tr th {\n",
       "        vertical-align: top;\n",
       "    }\n",
       "\n",
       "    .dataframe thead th {\n",
       "        text-align: right;\n",
       "    }\n",
       "</style>\n",
       "<table border=\"1\" class=\"dataframe\">\n",
       "  <thead>\n",
       "    <tr style=\"text-align: right;\">\n",
       "      <th></th>\n",
       "      <th>Unnamed: 0</th>\n",
       "      <th>region</th>\n",
       "      <th>area</th>\n",
       "      <th>palmitic</th>\n",
       "      <th>palmitoleic</th>\n",
       "      <th>stearic</th>\n",
       "      <th>oleic</th>\n",
       "      <th>linoleic</th>\n",
       "      <th>linolenic</th>\n",
       "      <th>arachidic</th>\n",
       "      <th>eicosenoic</th>\n",
       "      <th>sub_region_raw</th>\n",
       "    </tr>\n",
       "  </thead>\n",
       "  <tbody>\n",
       "    <tr>\n",
       "      <td>0</td>\n",
       "      <td>1.North-Apulia</td>\n",
       "      <td>1</td>\n",
       "      <td>1</td>\n",
       "      <td>1075</td>\n",
       "      <td>75</td>\n",
       "      <td>226</td>\n",
       "      <td>7823</td>\n",
       "      <td>672</td>\n",
       "      <td>36</td>\n",
       "      <td>60</td>\n",
       "      <td>29</td>\n",
       "      <td>1.North-Apulia</td>\n",
       "    </tr>\n",
       "    <tr>\n",
       "      <td>1</td>\n",
       "      <td>2.North-Apulia</td>\n",
       "      <td>1</td>\n",
       "      <td>1</td>\n",
       "      <td>1088</td>\n",
       "      <td>73</td>\n",
       "      <td>224</td>\n",
       "      <td>7709</td>\n",
       "      <td>781</td>\n",
       "      <td>31</td>\n",
       "      <td>61</td>\n",
       "      <td>29</td>\n",
       "      <td>2.North-Apulia</td>\n",
       "    </tr>\n",
       "    <tr>\n",
       "      <td>2</td>\n",
       "      <td>3.North-Apulia</td>\n",
       "      <td>1</td>\n",
       "      <td>1</td>\n",
       "      <td>911</td>\n",
       "      <td>54</td>\n",
       "      <td>246</td>\n",
       "      <td>8113</td>\n",
       "      <td>549</td>\n",
       "      <td>31</td>\n",
       "      <td>63</td>\n",
       "      <td>29</td>\n",
       "      <td>3.North-Apulia</td>\n",
       "    </tr>\n",
       "    <tr>\n",
       "      <td>3</td>\n",
       "      <td>4.North-Apulia</td>\n",
       "      <td>1</td>\n",
       "      <td>1</td>\n",
       "      <td>966</td>\n",
       "      <td>57</td>\n",
       "      <td>240</td>\n",
       "      <td>7952</td>\n",
       "      <td>619</td>\n",
       "      <td>50</td>\n",
       "      <td>78</td>\n",
       "      <td>35</td>\n",
       "      <td>4.North-Apulia</td>\n",
       "    </tr>\n",
       "    <tr>\n",
       "      <td>4</td>\n",
       "      <td>5.North-Apulia</td>\n",
       "      <td>1</td>\n",
       "      <td>1</td>\n",
       "      <td>1051</td>\n",
       "      <td>67</td>\n",
       "      <td>259</td>\n",
       "      <td>7771</td>\n",
       "      <td>672</td>\n",
       "      <td>50</td>\n",
       "      <td>80</td>\n",
       "      <td>46</td>\n",
       "      <td>5.North-Apulia</td>\n",
       "    </tr>\n",
       "  </tbody>\n",
       "</table>\n",
       "</div>"
      ],
      "text/plain": [
       "       Unnamed: 0  region  area  palmitic  palmitoleic  stearic  oleic  \\\n",
       "0  1.North-Apulia       1     1      1075           75      226   7823   \n",
       "1  2.North-Apulia       1     1      1088           73      224   7709   \n",
       "2  3.North-Apulia       1     1       911           54      246   8113   \n",
       "3  4.North-Apulia       1     1       966           57      240   7952   \n",
       "4  5.North-Apulia       1     1      1051           67      259   7771   \n",
       "\n",
       "   linoleic  linolenic  arachidic  eicosenoic  sub_region_raw  \n",
       "0       672         36         60          29  1.North-Apulia  \n",
       "1       781         31         61          29  2.North-Apulia  \n",
       "2       549         31         63          29  3.North-Apulia  \n",
       "3       619         50         78          35  4.North-Apulia  \n",
       "4       672         50         80          46  5.North-Apulia  "
      ]
     },
     "execution_count": 40,
     "metadata": {},
     "output_type": "execute_result"
    }
   ],
   "source": [
    "df.head()"
   ]
  },
  {
   "cell_type": "code",
   "execution_count": 41,
   "metadata": {},
   "outputs": [],
   "source": [
    "# Q8: In `df`, create a new column 'sub_region_raw', which will be a copy of the column 'Unnamed: 0'\n",
    "df['sub_region_raw'] = df['Unnamed: 0']   \n",
    "# Q9: In `df`, rename 'Unnamed: 0' to 'sub_region_desc'\n",
    "df.rename(columns={'Unnamed: 0': 'sub_region_desc'}, inplace=True)\n",
    "# Q10: In `df`, rename the column 'area' to: 'sub_region'\n",
    "df.rename(columns={'area': 'sub_region'}, inplace=True)\n"
   ]
  },
  {
   "cell_type": "code",
   "execution_count": 42,
   "metadata": {},
   "outputs": [
    {
     "data": {
      "text/plain": [
       "pandas.core.series.Series"
      ]
     },
     "execution_count": 42,
     "metadata": {},
     "output_type": "execute_result"
    }
   ],
   "source": [
    "type(df_data_types_count)"
   ]
  },
  {
   "cell_type": "code",
   "execution_count": 43,
   "metadata": {},
   "outputs": [],
   "source": [
    "u_sub_region = df.sub_region.unique()"
   ]
  },
  {
   "cell_type": "code",
   "execution_count": 44,
   "metadata": {},
   "outputs": [
    {
     "data": {
      "text/plain": [
       "9"
      ]
     },
     "execution_count": 44,
     "metadata": {},
     "output_type": "execute_result"
    }
   ],
   "source": [
    "u_sub_region.size"
   ]
  },
  {
   "cell_type": "code",
   "execution_count": 45,
   "metadata": {},
   "outputs": [
    {
     "data": {
      "text/plain": [
       "array([1, 2, 3], dtype=int64)"
      ]
     },
     "execution_count": 45,
     "metadata": {},
     "output_type": "execute_result"
    }
   ],
   "source": [
    "df.region.unique()\n"
   ]
  },
  {
   "cell_type": "code",
   "execution_count": 34,
   "metadata": {},
   "outputs": [
    {
     "data": {
      "text/html": [
       "<div>\n",
       "<style scoped>\n",
       "    .dataframe tbody tr th:only-of-type {\n",
       "        vertical-align: middle;\n",
       "    }\n",
       "\n",
       "    .dataframe tbody tr th {\n",
       "        vertical-align: top;\n",
       "    }\n",
       "\n",
       "    .dataframe thead th {\n",
       "        text-align: right;\n",
       "    }\n",
       "</style>\n",
       "<table border=\"1\" class=\"dataframe\">\n",
       "  <thead>\n",
       "    <tr style=\"text-align: right;\">\n",
       "      <th></th>\n",
       "      <th>numindex</th>\n",
       "      <th>sub_region_desc</th>\n",
       "    </tr>\n",
       "  </thead>\n",
       "  <tbody>\n",
       "    <tr>\n",
       "      <td>0</td>\n",
       "      <td>1</td>\n",
       "      <td>North-Apulia</td>\n",
       "    </tr>\n",
       "    <tr>\n",
       "      <td>1</td>\n",
       "      <td>2</td>\n",
       "      <td>North-Apulia</td>\n",
       "    </tr>\n",
       "    <tr>\n",
       "      <td>2</td>\n",
       "      <td>3</td>\n",
       "      <td>North-Apulia</td>\n",
       "    </tr>\n",
       "    <tr>\n",
       "      <td>3</td>\n",
       "      <td>4</td>\n",
       "      <td>North-Apulia</td>\n",
       "    </tr>\n",
       "    <tr>\n",
       "      <td>4</td>\n",
       "      <td>5</td>\n",
       "      <td>North-Apulia</td>\n",
       "    </tr>\n",
       "    <tr>\n",
       "      <td>...</td>\n",
       "      <td>...</td>\n",
       "      <td>...</td>\n",
       "    </tr>\n",
       "    <tr>\n",
       "      <td>567</td>\n",
       "      <td>568</td>\n",
       "      <td>West-Liguria</td>\n",
       "    </tr>\n",
       "    <tr>\n",
       "      <td>568</td>\n",
       "      <td>569</td>\n",
       "      <td>West-Liguria</td>\n",
       "    </tr>\n",
       "    <tr>\n",
       "      <td>569</td>\n",
       "      <td>570</td>\n",
       "      <td>West-Liguria</td>\n",
       "    </tr>\n",
       "    <tr>\n",
       "      <td>570</td>\n",
       "      <td>571</td>\n",
       "      <td>West-Liguria</td>\n",
       "    </tr>\n",
       "    <tr>\n",
       "      <td>571</td>\n",
       "      <td>572</td>\n",
       "      <td>West-Liguria</td>\n",
       "    </tr>\n",
       "  </tbody>\n",
       "</table>\n",
       "<p>572 rows × 2 columns</p>\n",
       "</div>"
      ],
      "text/plain": [
       "    numindex sub_region_desc\n",
       "0          1    North-Apulia\n",
       "1          2    North-Apulia\n",
       "2          3    North-Apulia\n",
       "3          4    North-Apulia\n",
       "4          5    North-Apulia\n",
       "..       ...             ...\n",
       "567      568    West-Liguria\n",
       "568      569    West-Liguria\n",
       "569      570    West-Liguria\n",
       "570      571    West-Liguria\n",
       "571      572    West-Liguria\n",
       "\n",
       "[572 rows x 2 columns]"
      ]
     },
     "execution_count": 34,
     "metadata": {},
     "output_type": "execute_result"
    }
   ],
   "source": [
    "pd.DataFrame(df.sub_region_desc.str.split('.',1).tolist(), columns = ['numindex','sub_region_desc'])"
   ]
  },
  {
   "cell_type": "code",
   "execution_count": 52,
   "metadata": {},
   "outputs": [
    {
     "data": {
      "text/plain": [
       "array(['North-Apulia', 'Calabria', 'South-Apulia', 'Sicily',\n",
       "       'Inland-Sardinia', 'Coast-Sardinia', 'Umbria', 'East-Liguria',\n",
       "       'West-Liguria'], dtype=object)"
      ]
     },
     "execution_count": 52,
     "metadata": {},
     "output_type": "execute_result"
    }
   ],
   "source": [
    "df.sub_region_desc.str.lstrip('1234567890.').unique()\n"
   ]
  },
  {
   "cell_type": "code",
   "execution_count": 51,
   "metadata": {},
   "outputs": [
    {
     "data": {
      "text/plain": [
       "0        1.North-Apulia\n",
       "1        2.North-Apulia\n",
       "2        3.North-Apulia\n",
       "3        4.North-Apulia\n",
       "4        5.North-Apulia\n",
       "             ...       \n",
       "567    568.West-Liguria\n",
       "568    569.West-Liguria\n",
       "569    570.West-Liguria\n",
       "570    571.West-Liguria\n",
       "571    572.West-Liguria\n",
       "Name: sub_region_desc, Length: 572, dtype: object"
      ]
     },
     "execution_count": 51,
     "metadata": {},
     "output_type": "execute_result"
    }
   ],
   "source": [
    "df.sub_region_desc"
   ]
  },
  {
   "cell_type": "code",
   "execution_count": 53,
   "metadata": {},
   "outputs": [],
   "source": []
  },
  {
   "cell_type": "code",
   "execution_count": null,
   "metadata": {},
   "outputs": [],
   "source": [
    "# WARNING: If you close your browser, your work will be LOST!\n",
    "\n",
    "# Q1: import numpy and pandas\n",
    "import numpy as np\n",
    "import pandas as pd\n",
    "# Q2: Set options in pandas so it displays 30 `max_rows` \n",
    "#                                 no limit on `max_columns`\n",
    "#                                 precision is 3\n",
    "pd.set_option('display.max_columns', None)\n",
    "pd.set_option('display.max_rows', 30)\n",
    "pd.set_option('display.precision', 3)\n",
    "# Q3: assign the versions of pandas and numpy to variables below\n",
    "pd_version = pd.__version__\n",
    "np_version = np.__version__\n",
    "\n",
    "# Q4: Read in the csv file \"olive.csv\" with pandas. \n",
    "#     The filename is stored in the variable `olive_path`\n",
    "#     Assign it to variable `df`\n",
    "\n",
    "df = pd.read_csv('olive.csv')\n",
    "\n",
    "\n",
    "\n",
    "# The fields are:\n",
    "\n",
    "# Unnamed: 0\n",
    "# region\n",
    "# area\n",
    "# palmitic\n",
    "# palmitoleic\n",
    "# stearic\n",
    "# oleic\n",
    "# linoleic\n",
    "# linolenic\n",
    "# arachidic\n",
    "# eicosenoic\n",
    "\n",
    "\n",
    "\n",
    "# Q5: How many rows and columns are there in `df`? Put your answer in a variable `df_shape`.\n",
    "df_shape = df.shape\n",
    "\n",
    "# Q6: assign the first 2 rows of `df` to `df_first_two`\n",
    "df_first_two = df.head(2)\n",
    "\n",
    "# Q7: How many distinct data types are there in `df`?\n",
    "dtcount = df.dtypes.value_counts()\n",
    "\n",
    "df_data_types_count =  dtcount[0]\n",
    " # this should be an integer\n",
    "\n",
    "# Q8: In `df`, create a new column 'sub_region_raw', which will be a copy of the column 'Unnamed: 0'\n",
    "df['sub_region_raw'] = df['Unnamed: 0']   \n",
    "# Q9: In `df`, rename 'Unnamed: 0' to 'sub_region_desc'\n",
    "df.rename(columns={'Unnamed: 0': 'sub_region_desc'}, inplace=True)\n",
    "# Q10: In `df`, rename the column 'area' to: 'sub_region'\n",
    "df.rename(columns={'area': 'sub_region'}, inplace=True)\n",
    "# Q11: In `df`, get the unique values of the field 'region'\n",
    "region_unique = df.region.unique()\n",
    "\n",
    "# Q12: In `df`, how many unique values of the field 'sub_region' are there?\n",
    "u_sub_region = df.sub_region.unique() \n",
    "\n",
    "sub_region_unique_count = u_sub_region.size  # should be an integer\n",
    "\n",
    "# Q13: Lets take a look at the field `sub_region_desc`:\n",
    "\n",
    "# >>> df['sub_region_desc'].head(5)\n",
    "# 0    1.North-Apulia\n",
    "# 1    2.North-Apulia\n",
    "# 2    3.North-Apulia\n",
    "# 3    4.North-Apulia\n",
    "# 4    5.North-Apulia\n",
    "\n",
    "# Looks like 'sub_region_desc' has line numbers attached to the beginning of region name. Remove those and get the unique values in that field, assign it to `srd_unique`\n",
    "srd_unique = df.sub_region_desc.str.lstrip('1234567890.').unique()\n",
    "\n",
    "\n"
   ]
  },
  {
   "cell_type": "code",
   "execution_count": null,
   "metadata": {},
   "outputs": [],
   "source": []
  },
  {
   "cell_type": "code",
   "execution_count": null,
   "metadata": {},
   "outputs": [],
   "source": []
  },
  {
   "cell_type": "code",
   "execution_count": null,
   "metadata": {},
   "outputs": [],
   "source": [
    "\n",
    "#\n",
    "# # Q1: import numpy and pandas\n",
    "# import pandas as pd\n",
    "# import numpy as np\n",
    "#\n",
    "# # Q2: Set options in pandas so it displays 10 `max_rows`\n",
    "# #                                 no limit on `max_columns`\n",
    "# #                                 precision is 3\n",
    "# pd.options.display.max_rows = 30\n",
    "# pd.options.display.max_columns = None\n",
    "# pd.options.display.precision = 3\n",
    "#\n",
    "#\n",
    "# # Q3: assign the versions of pandas and numpy to variables below\n",
    "# pd_version = pd.__version__\n",
    "# np_version = np.__version__\n",
    "#\n",
    "# # Q4: Read in the csv file \"olive.csv\" with pandas.\n",
    "# #     Assign it to variable `df`\n",
    "# df = pd.read_csv('olive.csv')\n",
    "#\n",
    "# # The fields are:\n",
    "#\n",
    "# # Unnamed: 0\n",
    "# # region\n",
    "# # area\n",
    "# # palmitic\n",
    "# # palmitoleic\n",
    "# # stearic\n",
    "# # oleic\n",
    "# # linoleic\n",
    "# # linolenic\n",
    "# # arachidic\n",
    "# # eicosenoic\n",
    "#\n",
    "#\n",
    "# # Q5: How many rows and columns are there in `df`? Put your answer in a variable `df_shape`.\n",
    "# df_shape = df.shape\n",
    "#\n",
    "# # Q6: assign the first 2 rows of `df` to `df_first_2`\n",
    "# df_first_two = df.head(2)\n",
    "#\n",
    "# # Q7: How many distinct data types are there in `df`?\n",
    "# df_data_types_count = len(df.dtypes.unique())   # this should be an integer\n",
    "#\n",
    "# # Q8: In `df`, create a new column 'sub_region_raw', which will be a copy of the column 'Unnamed: 0'\n",
    "# df['sub_region_raw'] = df['Unnamed: 0']\n",
    "#\n",
    "# # Q9: In `df`, rename 'Unnamed: 0' to 'sub_region_desc'\n",
    "# df.rename(columns={'Unnamed: 0': 'sub_region_desc'}, inplace=1)\n",
    "#\n",
    "# # Q10: In `df`, rename the column 'area' to: 'sub_region'\n",
    "# df.rename(columns={'area': 'sub_region'}, inplace=1)\n",
    "#\n",
    "# # Q11: In `df`, get the unique values of the field 'region'\n",
    "# region_unique = df['region'].unique()\n",
    "#\n",
    "# # Q12: In `df`, how many unique values of the field 'sub_region' are there?\n",
    "# sub_region_unique_count = len(df['sub_region'].unique())  # should be an integer\n",
    "#\n",
    "# # Q13: Lets take a look at the field `sub_region_desc`:\n",
    "#\n",
    "# # >>> df['sub_region_desc'].head(5)\n",
    "# # 0    1.North-Apulia\n",
    "# # 1    2.North-Apulia\n",
    "# # 2    3.North-Apulia\n",
    "# # 3    4.North-Apulia\n",
    "# # 4    5.North-Apulia\n",
    "#\n",
    "# # Looks like 'sub_region_desc' has line numbers attached to the beginning of region name. Remove those and get the unique values in that field, assign it to `srd_unique`\n",
    "# srd_unique = df['sub_region_desc'].map(lambda r: r.split('.')[-1]).unique()"
   ]
  },
  {
   "cell_type": "code",
   "execution_count": 54,
   "metadata": {},
   "outputs": [],
   "source": [
    "region_unique = df.sub_region.unique()\n",
    "\n"
   ]
  },
  {
   "cell_type": "code",
   "execution_count": 59,
   "metadata": {},
   "outputs": [
    {
     "name": "stdout",
     "output_type": "stream",
     "text": [
      "9\n"
     ]
    }
   ],
   "source": [
    "print(u_sub_region.size)"
   ]
  },
  {
   "cell_type": "code",
   "execution_count": 60,
   "metadata": {},
   "outputs": [
    {
     "data": {
      "text/plain": [
       "9"
      ]
     },
     "execution_count": 60,
     "metadata": {},
     "output_type": "execute_result"
    }
   ],
   "source": [
    "len(df['sub_region'].unique()) "
   ]
  },
  {
   "cell_type": "code",
   "execution_count": 62,
   "metadata": {},
   "outputs": [],
   "source": [
    "import numpy as np\n",
    "\n",
    "\n",
    "# Do not change these variables\n",
    "A = np.array([[1,2,3],[2,7,4]])\n",
    "B = np.array([[1,-1],[0,1]])\n",
    "C = np.array([[5,-1],[9,1],[6,0]])\n",
    "D = np.array([[3,-2,-1],[1,2,3]])\n",
    "\n",
    "u = np.array([6,2,-3,5])\n",
    "v = np.array([3,5,-1,4])\n",
    "\n",
    "# Q1: record the dimensions of A, B, C, D, u, v respectively in the dict below. \n",
    "#     Do not type the answers, make python do the work\n",
    "\n",
    "dimensions = {\n",
    "    'A': A.shape,\n",
    "    'B': B.shape,\n",
    "    'C': C.shape,\n",
    "    'D': D.shape,\n",
    "    'u': u.shape,\n",
    "    'v': v.shape\n",
    "}\n",
    "\n",
    "# Q2: vector operations\n",
    "#     assign `None` if the operation is not defined\n",
    "#     do not type the answers, make python do the work\n",
    "alpha = 6\n",
    "\n",
    "u_plus_v = np.add(u,v)           # u+v\n",
    "u_minus_v =  np.subtract(u,v)          # u-v\n",
    "alpha_times_u = np.multiply(alpha,u)       # alpha * u, alpha = 6\n",
    "u_dot_v = np.dot(u,v)             # u . v\n",
    "norm_u =   np.linalg.norm(u)            # ||u|| \n",
    "\n",
    "\n",
    "# Q3: compute the following and assign to variables below:\n",
    "#     assign `None` if the operation is not defined\n",
    "#     do not type the answers, make python do the work\n",
    "\n",
    "A_plus_C = None             # A + C\n",
    "A_minus_Ctranspose = np.subtract(A,C.T)   # A - C.T\n",
    "Ctranspose_plus_3D = np.add(C.T, 3*D)    # C.T + 3*D\n",
    "B_times_A =   np.dot(B, A)          # B*A\n",
    "B_times_Atranspose = None   # B*A.T"
   ]
  },
  {
   "cell_type": "code",
   "execution_count": 63,
   "metadata": {},
   "outputs": [
    {
     "data": {
      "text/plain": [
       "array([[-1, -5, -1],\n",
       "       [ 2,  7,  4]])"
      ]
     },
     "execution_count": 63,
     "metadata": {},
     "output_type": "execute_result"
    }
   ],
   "source": [
    "B_times_A\n"
   ]
  },
  {
   "cell_type": "code",
   "execution_count": 64,
   "metadata": {},
   "outputs": [
    {
     "data": {
      "text/plain": [
       "array([[ 1, -4],\n",
       "       [ 0,  1]])"
      ]
     },
     "execution_count": 64,
     "metadata": {},
     "output_type": "execute_result"
    }
   ],
   "source": [
    "np.dot(np.dot(B,B),np.dot(B,B))\n"
   ]
  },
  {
   "cell_type": "code",
   "execution_count": null,
   "metadata": {},
   "outputs": [],
   "source": []
  }
 ],
 "metadata": {
  "kernelspec": {
   "display_name": "Python 3",
   "language": "python",
   "name": "python3"
  },
  "language_info": {
   "codemirror_mode": {
    "name": "ipython",
    "version": 3
   },
   "file_extension": ".py",
   "mimetype": "text/x-python",
   "name": "python",
   "nbconvert_exporter": "python",
   "pygments_lexer": "ipython3",
   "version": "3.7.4"
  }
 },
 "nbformat": 4,
 "nbformat_minor": 2
}
